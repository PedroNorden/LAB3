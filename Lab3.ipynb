{
 "cells": [
  {
   "cell_type": "code",
   "execution_count": 3,
   "metadata": {},
   "outputs": [],
   "source": [
    "import pandas as pd\n",
    "import numpy as np\n",
    "import matplotlib.pyplot as plt\n",
    "import seaborn as sns\n",
    "from sklearn.model_selection import train_test_split\n",
    "from sklearn.preprocessing import StandardScaler, LabelEncoder\n",
    "from sklearn.impute import SimpleImputer\n",
    "from sklearn.linear_model import LogisticRegression\n",
    "from sklearn.ensemble import RandomForestClassifier\n",
    "from sklearn.metrics import classification_report, confusion_matrix, accuracy_score"
   ]
  },
  {
   "cell_type": "code",
   "execution_count": 4,
   "metadata": {},
   "outputs": [],
   "source": [
    "# Cargar los datos\n",
    "chunk_size = 1000\n",
    "chunks = []\n",
    "\n",
    "for chunk in pd.read_csv('titulados2022.csv', chunksize=chunk_size, on_bad_lines='skip', low_memory=True):\n",
    "    chunks.append(chunk)\n",
    "\n",
    "titulados2022 = pd.concat(chunks, ignore_index=True)"
   ]
  },
  {
   "cell_type": "code",
   "execution_count": 6,
   "metadata": {},
   "outputs": [
    {
     "data": {
      "text/html": [
       "<div>\n",
       "<style scoped>\n",
       "    .dataframe tbody tr th:only-of-type {\n",
       "        vertical-align: middle;\n",
       "    }\n",
       "\n",
       "    .dataframe tbody tr th {\n",
       "        vertical-align: top;\n",
       "    }\n",
       "\n",
       "    .dataframe thead th {\n",
       "        text-align: right;\n",
       "    }\n",
       "</style>\n",
       "<table border=\"1\" class=\"dataframe\">\n",
       "  <thead>\n",
       "    <tr style=\"text-align: right;\">\n",
       "      <th></th>\n",
       "      <th>cat_periodo;codigo_unico;mrun;gen_alu;fec_nac_alu;rango_edad;anio_ing_carr_ori;sem_ing_carr_ori;anio_ing_carr_act;sem_ing_carr_act;nomb_titulo_obtenido;nomb_grado_obtenido;fecha_obtencion_titulo;tipo_inst_1;tipo_inst_2;tipo_inst_3;cod_inst;nomb_inst;cod_sede;nomb_sede;cod_carrera;nomb_carrera;nivel_global;nivel_carrera_1;nivel_carrera_2;dur_estudio_carr;dur_proceso_tit;dur_total_carr;region_sede;provincia_sede;comuna_sede;jornada;modalidad;version;tipo_plan_carr;area_cineunesco;area_cine_f_97;subarea_cine_f_97;area_cine_f_13;subarea_cine_f_13;area_carrera_generica_n</th>\n",
       "    </tr>\n",
       "  </thead>\n",
       "  <tbody>\n",
       "    <tr>\n",
       "      <th>0</th>\n",
       "      <td>Periodismo e Información;Ciencias Sociales y ...</td>\n",
       "    </tr>\n",
       "    <tr>\n",
       "      <th>1</th>\n",
       "      <td>Periodismo e Información;Periodismo e Informa...</td>\n",
       "    </tr>\n",
       "    <tr>\n",
       "      <th>2</th>\n",
       "      <td>NaN</td>\n",
       "    </tr>\n",
       "    <tr>\n",
       "      <th>3</th>\n",
       "      <td>NaN</td>\n",
       "    </tr>\n",
       "    <tr>\n",
       "      <th>4</th>\n",
       "      <td>NaN</td>\n",
       "    </tr>\n",
       "  </tbody>\n",
       "</table>\n",
       "</div>"
      ],
      "text/plain": [
       "  cat_periodo;codigo_unico;mrun;gen_alu;fec_nac_alu;rango_edad;anio_ing_carr_ori;sem_ing_carr_ori;anio_ing_carr_act;sem_ing_carr_act;nomb_titulo_obtenido;nomb_grado_obtenido;fecha_obtencion_titulo;tipo_inst_1;tipo_inst_2;tipo_inst_3;cod_inst;nomb_inst;cod_sede;nomb_sede;cod_carrera;nomb_carrera;nivel_global;nivel_carrera_1;nivel_carrera_2;dur_estudio_carr;dur_proceso_tit;dur_total_carr;region_sede;provincia_sede;comuna_sede;jornada;modalidad;version;tipo_plan_carr;area_cineunesco;area_cine_f_97;subarea_cine_f_97;area_cine_f_13;subarea_cine_f_13;area_carrera_generica_n\n",
       "0   Periodismo e Información;Ciencias Sociales y ...                                                                                                                                                                                                                                                                                                                                                                                                                                                                                                                                          \n",
       "1   Periodismo e Información;Periodismo e Informa...                                                                                                                                                                                                                                                                                                                                                                                                                                                                                                                                          \n",
       "2                                                NaN                                                                                                                                                                                                                                                                                                                                                                                                                                                                                                                                          \n",
       "3                                                NaN                                                                                                                                                                                                                                                                                                                                                                                                                                                                                                                                          \n",
       "4                                                NaN                                                                                                                                                                                                                                                                                                                                                                                                                                                                                                                                          "
      ]
     },
     "execution_count": 6,
     "metadata": {},
     "output_type": "execute_result"
    }
   ],
   "source": [
    "titulados2022.head()"
   ]
  }
 ],
 "metadata": {
  "kernelspec": {
   "display_name": "Python 3",
   "language": "python",
   "name": "python3"
  },
  "language_info": {
   "codemirror_mode": {
    "name": "ipython",
    "version": 3
   },
   "file_extension": ".py",
   "mimetype": "text/x-python",
   "name": "python",
   "nbconvert_exporter": "python",
   "pygments_lexer": "ipython3",
   "version": "3.11.9"
  }
 },
 "nbformat": 4,
 "nbformat_minor": 2
}
